{
 "cells": [
  {
   "cell_type": "code",
   "execution_count": 3,
   "metadata": {},
   "outputs": [],
   "source": [
    "# Importing all the libraries\n",
    "import pandas as pd\n",
    "import matplotlib.pyplot as plt\n",
    "import numpy as np\n",
    "%matplotlib inline\n",
    "\n",
    "\n",
    "# Opening the csv file with pandas\n",
    "coronavirus = pd.read_csv(r'C:\\Users\\Lenovo\\Desktop\\Coronavirus\\Covid19_data.txt')\n",
    "\n",
    "# Filtering India Data\n",
    "india = coronavirus[coronavirus['Country'] == 'India']\n",
    "\n",
    "\n",
    "\n",
    "# Percent change\n",
    "india_Conf_change = india['Confirmed'].pct_change() * 100\n",
    "x = india_Conf_change.fillna(0)\n",
    "\n",
    "india_Rec_change = india['Recovered'].pct_change() * 100\n",
    "y = india_Rec_change.fillna(0)\n",
    "\n",
    "\n",
    "date_array = np.array(india['Date'])\n",
    "\n",
    "# Plotting\n",
    "#plt.xticks(rotation=90)\n",
    "#plt.plot(date_array, x, label= 'Confirmed')\n",
    "#plt.plot(date_array, y, label= 'Recovered')\n",
    "#plt.xlabel('Dates')\n",
    "#plt.ylabel('Rate Change')\n",
    "#plt.legend()\n",
    "#plt.show()"
   ]
  },
  {
   "cell_type": "code",
   "execution_count": 4,
   "metadata": {},
   "outputs": [
    {
     "data": {
      "text/plain": [
       "79       0.000000\n",
       "266      0.000000\n",
       "453      0.000000\n",
       "640      0.000000\n",
       "827      0.000000\n",
       "           ...   \n",
       "18966    6.554473\n",
       "19153    7.068188\n",
       "19340    9.250676\n",
       "19527    6.380688\n",
       "19714    7.261134\n",
       "Name: Confirmed, Length: 106, dtype: float64"
      ]
     },
     "execution_count": 4,
     "metadata": {},
     "output_type": "execute_result"
    }
   ],
   "source": [
    "x"
   ]
  },
  {
   "cell_type": "code",
   "execution_count": 5,
   "metadata": {},
   "outputs": [
    {
     "data": {
      "text/plain": [
       "79        0.000000\n",
       "266       0.000000\n",
       "453       0.000000\n",
       "640       0.000000\n",
       "827       0.000000\n",
       "           ...    \n",
       "18966     8.114320\n",
       "19153     8.836306\n",
       "19340     9.104034\n",
       "19527    10.080174\n",
       "19714     8.407580\n",
       "Name: Recovered, Length: 106, dtype: float64"
      ]
     },
     "execution_count": 5,
     "metadata": {},
     "output_type": "execute_result"
    }
   ],
   "source": [
    "y"
   ]
  },
  {
   "cell_type": "code",
   "execution_count": null,
   "metadata": {},
   "outputs": [],
   "source": []
  }
 ],
 "metadata": {
  "kernelspec": {
   "display_name": "Python 3",
   "language": "python",
   "name": "python3"
  },
  "language_info": {
   "codemirror_mode": {
    "name": "ipython",
    "version": 3
   },
   "file_extension": ".py",
   "mimetype": "text/x-python",
   "name": "python",
   "nbconvert_exporter": "python",
   "pygments_lexer": "ipython3",
   "version": "3.7.4"
  }
 },
 "nbformat": 4,
 "nbformat_minor": 2
}
